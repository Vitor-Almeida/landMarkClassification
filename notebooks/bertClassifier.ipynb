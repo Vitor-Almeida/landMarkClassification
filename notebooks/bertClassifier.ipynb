{
 "cells": [
  {
   "cell_type": "code",
   "execution_count": 1,
   "metadata": {},
   "outputs": [
    {
     "name": "stderr",
     "output_type": "stream",
     "text": [
      "/home/jaco/.pyenv/versions/3.9.7/envs/landMarkClassification/lib/python3.9/site-packages/tqdm/auto.py:22: TqdmWarning: IProgress not found. Please update jupyter and ipywidgets. See https://ipywidgets.readthedocs.io/en/stable/user_install.html\n",
      "  from .autonotebook import tqdm as notebook_tqdm\n"
     ]
    }
   ],
   "source": [
    "import torch\n",
    "import numpy as np\n",
    "#from transformers import BertTokenizer\n",
    "#from transformers import BertModel\n",
    "import pandas as pd\n",
    "from torch.optim import Adam\n",
    "from tqdm import tqdm\n",
    "\n",
    "from transformers import AutoTokenizer, AutoModel\n",
    "\n",
    "EPOCHS = 20\n",
    "LR = 1e-6\n",
    "batch_size = 2\n",
    "dropout = 0\n",
    "\n",
    "summaryCollumn = 'Syllabus_Legal' #qual coluna com o resumo no dataframe escolher para treinar\n",
    "#summaryCollumn = 'Syllabus' #qual coluna com o resumo no dataframe escolher para treinar\n",
    "\n",
    "#tokenizer = BertTokenizer.from_pretrained('bert-base-cased')\n",
    "tokenizer = AutoTokenizer.from_pretrained(\"nlpaueb/legal-bert-base-uncased\")\n",
    "\n",
    "filePath = '/home/jaco/Projetos/landMarkClassification/data/onlyLandMarkWSyllabus.csv'\n",
    "filePath_Train = '/home/jaco/Projetos/landMarkClassification/data/onlyLandMarkWSyllabus_Train.csv'\n",
    "filePath_Test = '/home/jaco/Projetos/landMarkClassification/data/onlyLandMarkWSyllabus_Test.csv'\n",
    "encodePath = '/home/jaco/Projetos/landMarkClassification/data/enCode.csv'"
   ]
  },
  {
   "cell_type": "code",
   "execution_count": 2,
   "metadata": {},
   "outputs": [
    {
     "name": "stdout",
     "output_type": "stream",
     "text": [
      "                                                text  \\\n",
      "0  Petitioner Ford, a black man charged with, int...   \n",
      "1  A man was convicted of murder in the second de...   \n",
      "2  After 21/2 years, appellant informed her emplo...   \n",
      "3  Lloyd Gaines, a negro, was refused admission t...   \n",
      "4  John F. Tinker, 15, and Christopher Eckhardt, ...   \n",
      "\n",
      "                                      Syllabus_Legal  category  \n",
      "0  The U.S. District Court for the Southern Distr...         4  \n",
      "1  On December 6, 2019, the U.S. District Court f...         3  \n",
      "2  On February 25, 2018, the U.S. District Court ...         2  \n",
      "3  On December 12, 2018, the U.S. District Court ...         4  \n",
      "4  The U.S. District Court for the Southern Distr...         2  \n"
     ]
    }
   ],
   "source": [
    "def get_labels(filePath,flagBurro):\n",
    "    enCode = pd.read_csv(filePath)\n",
    "    ag_news_label = enCode.to_dict(orient='split')\n",
    "    tmpDic = {}\n",
    "\n",
    "    if flagBurro:\n",
    "\n",
    "        for n in ag_news_label['data']:\n",
    "            tmpDic[n[0]] = n[1]\n",
    "\n",
    "    else:\n",
    "\n",
    "        for n in ag_news_label['data']:\n",
    "            tmpDic[n[1]] = n[0]\n",
    "\n",
    "    return tmpDic\n",
    "\n",
    "def read_dfs(trainPath,testPath,summary):\n",
    "\n",
    "    df_train = pd.read_csv(trainPath)\n",
    "    df_train.rename(columns={summary:'text','encoded':'category'},inplace=True)\n",
    "\n",
    "    df_test = pd.read_csv(testPath)\n",
    "    df_test.rename(columns={summary:'text','encoded':'category'},inplace=True)\n",
    "\n",
    "    return df_train,df_test\n",
    "\n",
    "labels = get_labels(encodePath,False)\n",
    "\n",
    "df_train,df_test = read_dfs(filePath_Train,filePath_Test,summaryCollumn)\n",
    "\n",
    "print(df_test.head(5))\n",
    "\n",
    "class Dataset(torch.utils.data.Dataset):\n",
    "\n",
    "    def __init__(self, df):\n",
    "\n",
    "        #self.labels = [labels[label] for label in df['category']]\n",
    "        self.labels = np.array(list(df['category']))-1\n",
    "        self.labels = list(self.labels)\n",
    "\n",
    "        self.texts = [tokenizer(text, \n",
    "                               padding='max_length', max_length = 512, truncation=True,\n",
    "                                return_tensors=\"pt\") for text in df['text']]\n",
    "\n",
    "    def classes(self):\n",
    "        return self.labels\n",
    "\n",
    "    def __len__(self):\n",
    "        return len(self.labels)\n",
    "\n",
    "    def get_batch_labels(self, idx):\n",
    "        # Fetch a batch of labels\n",
    "        return np.array(self.labels[idx])\n",
    "\n",
    "    def get_batch_texts(self, idx):\n",
    "        # Fetch a batch of inputs\n",
    "        return self.texts[idx]\n",
    "\n",
    "    def __getitem__(self, idx):\n",
    "\n",
    "        batch_texts = self.get_batch_texts(idx)\n",
    "        batch_y = self.get_batch_labels(idx)\n",
    "\n",
    "        return batch_texts, batch_y"
   ]
  },
  {
   "cell_type": "code",
   "execution_count": 3,
   "metadata": {},
   "outputs": [],
   "source": [
    "from torch import nn\n",
    "from transformers import BertModel\n",
    "\n",
    "class BertClassifier(nn.Module):\n",
    "\n",
    "    def __init__(self, dropout):\n",
    "\n",
    "        super(BertClassifier, self).__init__()\n",
    "\n",
    "        #self.bert = BertModel.from_pretrained('bert-base-cased')\n",
    "        self.bert = AutoModel.from_pretrained(\"nlpaueb/legal-bert-base-uncased\")\n",
    "        self.dropout = nn.Dropout(dropout)\n",
    "        self.linear = nn.Linear(768, len(labels) )\n",
    "        self.relu = nn.ReLU()\n",
    "\n",
    "    def forward(self, input_id, mask):\n",
    "\n",
    "        _, pooled_output = self.bert(input_ids= input_id, attention_mask=mask,return_dict=False)\n",
    "        dropout_output = self.dropout(pooled_output)\n",
    "        linear_output = self.linear(dropout_output)\n",
    "        final_layer = self.relu(linear_output)\n",
    "\n",
    "        return final_layer"
   ]
  },
  {
   "cell_type": "code",
   "execution_count": 4,
   "metadata": {},
   "outputs": [
    {
     "name": "stderr",
     "output_type": "stream",
     "text": [
      "Some weights of the model checkpoint at nlpaueb/legal-bert-base-uncased were not used when initializing BertModel: ['cls.predictions.transform.dense.bias', 'cls.seq_relationship.weight', 'cls.predictions.transform.LayerNorm.weight', 'cls.predictions.decoder.weight', 'cls.predictions.bias', 'cls.predictions.transform.LayerNorm.bias', 'cls.predictions.transform.dense.weight', 'cls.predictions.decoder.bias', 'cls.seq_relationship.bias']\n",
      "- This IS expected if you are initializing BertModel from the checkpoint of a model trained on another task or with another architecture (e.g. initializing a BertForSequenceClassification model from a BertForPreTraining model).\n",
      "- This IS NOT expected if you are initializing BertModel from the checkpoint of a model that you expect to be exactly identical (initializing a BertForSequenceClassification model from a BertForSequenceClassification model).\n",
      "100%|██████████| 177/177 [01:03<00:00,  2.79it/s]\n"
     ]
    },
    {
     "name": "stdout",
     "output_type": "stream",
     "text": [
      "Epochs: 1 | Train Loss:  0.693                 | Train Accuracy:  0.283                 | Val Loss:  0.701                 | Val Accuracy:  0.325\n"
     ]
    },
    {
     "name": "stderr",
     "output_type": "stream",
     "text": [
      "100%|██████████| 177/177 [01:09<00:00,  2.56it/s]\n"
     ]
    },
    {
     "name": "stdout",
     "output_type": "stream",
     "text": [
      "Epochs: 2 | Train Loss:  0.693                 | Train Accuracy:  0.283                 | Val Loss:  0.701                 | Val Accuracy:  0.325\n"
     ]
    },
    {
     "name": "stderr",
     "output_type": "stream",
     "text": [
      "100%|██████████| 177/177 [01:09<00:00,  2.55it/s]\n"
     ]
    },
    {
     "name": "stdout",
     "output_type": "stream",
     "text": [
      "Epochs: 3 | Train Loss:  0.692                 | Train Accuracy:  0.283                 | Val Loss:  0.701                 | Val Accuracy:  0.325\n"
     ]
    },
    {
     "name": "stderr",
     "output_type": "stream",
     "text": [
      " 11%|█▏        | 20/177 [00:08<01:03,  2.48it/s]\n"
     ]
    },
    {
     "ename": "KeyboardInterrupt",
     "evalue": "",
     "output_type": "error",
     "traceback": [
      "\u001b[0;31m---------------------------------------------------------------------------\u001b[0m",
      "\u001b[0;31mKeyboardInterrupt\u001b[0m                         Traceback (most recent call last)",
      "\u001b[1;32m/home/jaco/Projetos/landMarkClassification/bertClassifier.ipynb Cell 4\u001b[0m in \u001b[0;36m<cell line: 75>\u001b[0;34m()\u001b[0m\n\u001b[1;32m     <a href='vscode-notebook-cell://wsl%2Bubuntu/home/jaco/Projetos/landMarkClassification/bertClassifier.ipynb#W3sdnNjb2RlLXJlbW90ZQ%3D%3D?line=70'>71</a>\u001b[0m dropout \u001b[39m=\u001b[39m \u001b[39m0\u001b[39m\n\u001b[1;32m     <a href='vscode-notebook-cell://wsl%2Bubuntu/home/jaco/Projetos/landMarkClassification/bertClassifier.ipynb#W3sdnNjb2RlLXJlbW90ZQ%3D%3D?line=72'>73</a>\u001b[0m model \u001b[39m=\u001b[39m BertClassifier(dropout\u001b[39m=\u001b[39mdropout)\n\u001b[0;32m---> <a href='vscode-notebook-cell://wsl%2Bubuntu/home/jaco/Projetos/landMarkClassification/bertClassifier.ipynb#W3sdnNjb2RlLXJlbW90ZQ%3D%3D?line=74'>75</a>\u001b[0m train(model, df_train, df_test, LR, EPOCHS, batch_size)\n",
      "\u001b[1;32m/home/jaco/Projetos/landMarkClassification/bertClassifier.ipynb Cell 4\u001b[0m in \u001b[0;36mtrain\u001b[0;34m(model, train_data, val_data, learning_rate, epochs, batch_size)\u001b[0m\n\u001b[1;32m     <a href='vscode-notebook-cell://wsl%2Bubuntu/home/jaco/Projetos/landMarkClassification/bertClassifier.ipynb#W3sdnNjb2RlLXJlbW90ZQ%3D%3D?line=30'>31</a>\u001b[0m output \u001b[39m=\u001b[39m model(input_id, mask)\n\u001b[1;32m     <a href='vscode-notebook-cell://wsl%2Bubuntu/home/jaco/Projetos/landMarkClassification/bertClassifier.ipynb#W3sdnNjb2RlLXJlbW90ZQ%3D%3D?line=32'>33</a>\u001b[0m batch_loss \u001b[39m=\u001b[39m criterion(output, train_label\u001b[39m.\u001b[39mlong())\n\u001b[0;32m---> <a href='vscode-notebook-cell://wsl%2Bubuntu/home/jaco/Projetos/landMarkClassification/bertClassifier.ipynb#W3sdnNjb2RlLXJlbW90ZQ%3D%3D?line=33'>34</a>\u001b[0m total_loss_train \u001b[39m+\u001b[39m\u001b[39m=\u001b[39m batch_loss\u001b[39m.\u001b[39;49mitem()\n\u001b[1;32m     <a href='vscode-notebook-cell://wsl%2Bubuntu/home/jaco/Projetos/landMarkClassification/bertClassifier.ipynb#W3sdnNjb2RlLXJlbW90ZQ%3D%3D?line=35'>36</a>\u001b[0m acc \u001b[39m=\u001b[39m (output\u001b[39m.\u001b[39margmax(dim\u001b[39m=\u001b[39m\u001b[39m1\u001b[39m) \u001b[39m==\u001b[39m train_label)\u001b[39m.\u001b[39msum()\u001b[39m.\u001b[39mitem()\n\u001b[1;32m     <a href='vscode-notebook-cell://wsl%2Bubuntu/home/jaco/Projetos/landMarkClassification/bertClassifier.ipynb#W3sdnNjb2RlLXJlbW90ZQ%3D%3D?line=36'>37</a>\u001b[0m total_acc_train \u001b[39m+\u001b[39m\u001b[39m=\u001b[39m acc\n",
      "\u001b[0;31mKeyboardInterrupt\u001b[0m: "
     ]
    }
   ],
   "source": [
    "def train(model, train_data, val_data, learning_rate, epochs, batch_size):\n",
    "\n",
    "    train, val = Dataset(train_data), Dataset(val_data)\n",
    "\n",
    "    train_dataloader = torch.utils.data.DataLoader(train, batch_size, shuffle=True)\n",
    "    val_dataloader = torch.utils.data.DataLoader(val, batch_size)\n",
    "\n",
    "    use_cuda = torch.cuda.is_available()\n",
    "    #use_cuda = False\n",
    "    device = torch.device(\"cuda\" if use_cuda else \"cpu\")\n",
    "\n",
    "    criterion = nn.CrossEntropyLoss()\n",
    "    optimizer = Adam(model.parameters(), lr= learning_rate)\n",
    "\n",
    "    if use_cuda:\n",
    "\n",
    "            model = model.cuda()\n",
    "            criterion = criterion.cuda()\n",
    "\n",
    "    for epoch_num in range(epochs):\n",
    "\n",
    "            total_acc_train = 0\n",
    "            total_loss_train = 0\n",
    "\n",
    "            for train_input, train_label in tqdm(train_dataloader):\n",
    "\n",
    "                train_label = train_label.to(device)\n",
    "                mask = train_input['attention_mask'].to(device)\n",
    "                input_id = train_input['input_ids'].squeeze(1).to(device)\n",
    "\n",
    "                output = model(input_id, mask)\n",
    "                \n",
    "                batch_loss = criterion(output, train_label.long())\n",
    "                total_loss_train += batch_loss.item()\n",
    "                \n",
    "                acc = (output.argmax(dim=1) == train_label).sum().item()\n",
    "                total_acc_train += acc\n",
    "\n",
    "                model.zero_grad()\n",
    "                batch_loss.backward()\n",
    "                optimizer.step()\n",
    "            \n",
    "            total_acc_val = 0\n",
    "            total_loss_val = 0\n",
    "\n",
    "            with torch.no_grad():\n",
    "\n",
    "                for val_input, val_label in val_dataloader:\n",
    "\n",
    "                    val_label = val_label.to(device)\n",
    "                    mask = val_input['attention_mask'].to(device)\n",
    "                    input_id = val_input['input_ids'].squeeze(1).to(device)\n",
    "\n",
    "                    output = model(input_id, mask)\n",
    "\n",
    "                    batch_loss = criterion(output, val_label.long())\n",
    "                    total_loss_val += batch_loss.item()\n",
    "                    \n",
    "                    acc = (output.argmax(dim=1) == val_label).sum().item()\n",
    "                    total_acc_val += acc\n",
    "            \n",
    "            print(\n",
    "                f'Epochs: {epoch_num + 1} | Train Loss: {total_loss_train / len(train_data): .3f} \\\n",
    "                | Train Accuracy: {total_acc_train / len(train_data): .3f} \\\n",
    "                | Val Loss: {total_loss_val / len(val_data): .3f} \\\n",
    "                | Val Accuracy: {total_acc_val / len(val_data): .3f}')\n",
    "                  \n",
    "model = BertClassifier(dropout=dropout)\n",
    "\n",
    "train(model, df_train, df_test, LR, EPOCHS, batch_size)"
   ]
  },
  {
   "cell_type": "code",
   "execution_count": null,
   "metadata": {},
   "outputs": [
    {
     "name": "stdout",
     "output_type": "stream",
     "text": [
      "Test Accuracy:  0.475\n"
     ]
    }
   ],
   "source": [
    "def evaluate(model, test_data,batch_size):\n",
    "\n",
    "    test = Dataset(test_data)\n",
    "\n",
    "    test_dataloader = torch.utils.data.DataLoader(test, batch_size)\n",
    "\n",
    "    use_cuda = torch.cuda.is_available()\n",
    "    device = torch.device(\"cuda\" if use_cuda else \"cpu\")\n",
    "\n",
    "    if use_cuda:\n",
    "\n",
    "        model = model.cuda()\n",
    "\n",
    "    total_acc_test = 0\n",
    "    with torch.no_grad():\n",
    "\n",
    "        for test_input, test_label in test_dataloader:\n",
    "\n",
    "              test_label = test_label.to(device)\n",
    "              mask = test_input['attention_mask'].to(device)\n",
    "              input_id = test_input['input_ids'].squeeze(1).to(device)\n",
    "\n",
    "              output = model(input_id, mask)\n",
    "\n",
    "              acc = (output.argmax(dim=1) == test_label).sum().item()\n",
    "              total_acc_test += acc\n",
    "    \n",
    "    print(f'Test Accuracy: {total_acc_test / len(test_data): .3f}')\n",
    "    \n",
    "evaluate(model, df_test,batch_size)"
   ]
  }
 ],
 "metadata": {
  "kernelspec": {
   "display_name": "Python 3.9.7 64-bit ('landMarkClassification')",
   "language": "python",
   "name": "python3"
  },
  "language_info": {
   "codemirror_mode": {
    "name": "ipython",
    "version": 3
   },
   "file_extension": ".py",
   "mimetype": "text/x-python",
   "name": "python",
   "nbconvert_exporter": "python",
   "pygments_lexer": "ipython3",
   "version": "3.9.7"
  },
  "orig_nbformat": 4,
  "vscode": {
   "interpreter": {
    "hash": "e80bf6ea5ecc423e77aaec159991e7c9f008826490951eb9c074501ab4baad85"
   }
  }
 },
 "nbformat": 4,
 "nbformat_minor": 2
}
