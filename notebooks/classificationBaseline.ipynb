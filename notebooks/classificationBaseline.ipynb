{
 "cells": [
  {
   "cell_type": "code",
   "execution_count": 23,
   "metadata": {},
   "outputs": [],
   "source": [
    "import pandas as pd\n",
    "import re\n",
    "\n",
    "################### LAWMARKCASES ##################################\n",
    "FILE_LAWMARK = '/home/jaco/Projetos/landMarkClassification/data/scraper/scrapee.csv'\n",
    "\n",
    "dfLawMark = pd.read_csv(FILE_LAWMARK)\n",
    "\n",
    "dfLawMark['text'] = dfLawMark['text'].astype(str)\n",
    "dfLawMark['subject'] = dfLawMark['subject'].astype(str)\n",
    "\n",
    "#dfLawMark['text'] = dfLawMark['text'].str.replace(r'\\n',' ',regex=True)\n",
    "#dfLawMark['text'] = dfLawMark['text'].str.replace(r'\\\\',' ',regex=True)\n",
    "#dfLawMark['text'] = dfLawMark['text'].str.replace(r'\\'',' ',regex=True)\n",
    "\n",
    "def cleanHeaderFooter(text):\n",
    "    return text[169:-124]\n",
    "\n",
    "dfLawMark['text'] = dfLawMark['text'].apply(cleanHeaderFooter)\n",
    "dfLawMark = dfLawMark[['text','subject']]\n",
    "\n",
    "dfLawMark = dfLawMark[(dfLawMark['text'] != '')] ### checar depois pq aparece isso \n",
    "dfLawMark = dfLawMark[dfLawMark[\"text\"].apply(lambda x: len(x) > 1000)] ### checar depois pq aparece isso\n",
    "\n",
    "### checar se o webscrape ta perfeito vs o site.\n",
    "\n",
    "#dfLawMark = dfLawMark.groupby(['subject'])['text'].apply(','.join).reset_index()"
   ]
  },
  {
   "cell_type": "code",
   "execution_count": 24,
   "metadata": {},
   "outputs": [],
   "source": [
    "dfLawMark.head(5)\n",
    "\n",
    "### pegar um sumarizador profissional law:\n",
    "\n",
    "def get_head(row):\n",
    "\n",
    "    end_text = 'delivered the opinion of the Court.'\n",
    "    start_text = 'Syllabus'\n",
    "\n",
    "    start_pos = row['text'].find(start_text) \n",
    "    end_pos = row['text'].find(end_text) \n",
    "\n",
    "    if start_pos < 0:\n",
    "        start_pos = 0\n",
    "    if end_pos < 0:\n",
    "        end_pos = start_pos+5000\n",
    "\n",
    "    row['Syllabus'] = row['text'][start_pos+len(start_text):end_pos+len(end_text)]\n",
    "    row['Syllabus'] = re.sub(' +', ' ', row['Syllabus']) #remove any double space, 'text trim'\n",
    "\n",
    "    if len(row['Syllabus']) < 1000:\n",
    "        row['Syllabus'] = row['text']\n",
    "\n",
    "\n",
    "    return row['Syllabus']\n",
    "\n",
    "dfLawMark['Syllabus'] = dfLawMark.apply(lambda row : get_head(row), axis=1)\n",
    "\n",
    "dfLawMark.to_csv('check.csv')"
   ]
  },
  {
   "cell_type": "code",
   "execution_count": 25,
   "metadata": {},
   "outputs": [
    {
     "data": {
      "text/html": [
       "<div>\n",
       "<style scoped>\n",
       "    .dataframe tbody tr th:only-of-type {\n",
       "        vertical-align: middle;\n",
       "    }\n",
       "\n",
       "    .dataframe tbody tr th {\n",
       "        vertical-align: top;\n",
       "    }\n",
       "\n",
       "    .dataframe thead th {\n",
       "        text-align: right;\n",
       "    }\n",
       "</style>\n",
       "<table border=\"1\" class=\"dataframe\">\n",
       "  <thead>\n",
       "    <tr style=\"text-align: right;\">\n",
       "      <th></th>\n",
       "      <th>text</th>\n",
       "      <th>subject</th>\n",
       "      <th>Syllabus</th>\n",
       "    </tr>\n",
       "  </thead>\n",
       "  <tbody>\n",
       "    <tr>\n",
       "      <th>0</th>\n",
       "      <td>410 U.S. 113 93 S.Ct. 705 35 L.Ed.2d 147 Jane ...</td>\n",
       "      <td>Abortion</td>\n",
       "      <td>A pregnant single woman (Roe) brought a class...</td>\n",
       "    </tr>\n",
       "    <tr>\n",
       "      <th>1</th>\n",
       "      <td>410 U.S. 179 93 S.Ct. 739 35 L.Ed.2d 201 Mary ...</td>\n",
       "      <td>Abortion</td>\n",
       "      <td>Georgia law proscribes an abortion except as ...</td>\n",
       "    </tr>\n",
       "    <tr>\n",
       "      <th>2</th>\n",
       "      <td>421 U.S. 809 95 S.Ct. 2222. 44 L.Ed.2d 600 Jef...</td>\n",
       "      <td>Abortion</td>\n",
       "      <td>Appellant, the managing editor of a weekly ne...</td>\n",
       "    </tr>\n",
       "    <tr>\n",
       "      <th>3</th>\n",
       "      <td>428 U.S. 52 96 S.Ct. 2831 49 L.Ed.2d 788 PLANN...</td>\n",
       "      <td>Abortion</td>\n",
       "      <td>Two Missouri-licensed physicians, one of whom...</td>\n",
       "    </tr>\n",
       "    <tr>\n",
       "      <th>4</th>\n",
       "      <td>432 U.S. 438 97 S.Ct. 2366 53 L.Ed.2d 464 Fran...</td>\n",
       "      <td>Abortion</td>\n",
       "      <td>Title XIX of the Social Security Act establis...</td>\n",
       "    </tr>\n",
       "  </tbody>\n",
       "</table>\n",
       "</div>"
      ],
      "text/plain": [
       "                                                text   subject  \\\n",
       "0  410 U.S. 113 93 S.Ct. 705 35 L.Ed.2d 147 Jane ...  Abortion   \n",
       "1  410 U.S. 179 93 S.Ct. 739 35 L.Ed.2d 201 Mary ...  Abortion   \n",
       "2  421 U.S. 809 95 S.Ct. 2222. 44 L.Ed.2d 600 Jef...  Abortion   \n",
       "3  428 U.S. 52 96 S.Ct. 2831 49 L.Ed.2d 788 PLANN...  Abortion   \n",
       "4  432 U.S. 438 97 S.Ct. 2366 53 L.Ed.2d 464 Fran...  Abortion   \n",
       "\n",
       "                                            Syllabus  \n",
       "0   A pregnant single woman (Roe) brought a class...  \n",
       "1   Georgia law proscribes an abortion except as ...  \n",
       "2   Appellant, the managing editor of a weekly ne...  \n",
       "3   Two Missouri-licensed physicians, one of whom...  \n",
       "4   Title XIX of the Social Security Act establis...  "
      ]
     },
     "execution_count": 25,
     "metadata": {},
     "output_type": "execute_result"
    }
   ],
   "source": [
    "dfLawMark.head(5)"
   ]
  }
 ],
 "metadata": {
  "kernelspec": {
   "display_name": "Python 3.9.7 64-bit ('landMarkClassification')",
   "language": "python",
   "name": "python3"
  },
  "language_info": {
   "codemirror_mode": {
    "name": "ipython",
    "version": 3
   },
   "file_extension": ".py",
   "mimetype": "text/x-python",
   "name": "python",
   "nbconvert_exporter": "python",
   "pygments_lexer": "ipython3",
   "version": "3.9.7"
  },
  "orig_nbformat": 4,
  "vscode": {
   "interpreter": {
    "hash": "e80bf6ea5ecc423e77aaec159991e7c9f008826490951eb9c074501ab4baad85"
   }
  }
 },
 "nbformat": 4,
 "nbformat_minor": 2
}
